{
 "cells": [
  {
   "cell_type": "code",
   "execution_count": 1,
   "id": "10146af8",
   "metadata": {},
   "outputs": [],
   "source": [
    "import pandas as pd\n",
    "import numpy as np\n",
    "from matplotlib import pyplot as plt\n",
    "%matplotlib inline\n",
    "import matplotlib\n",
    "import warnings\n",
    "warnings.filterwarnings('ignore')\n"
   ]
  },
  {
   "cell_type": "markdown",
   "id": "a8531cf5",
   "metadata": {},
   "source": [
    "### 1. Importing data"
   ]
  },
  {
   "cell_type": "code",
   "execution_count": 2,
   "id": "8232f316",
   "metadata": {
    "scrolled": true
   },
   "outputs": [
    {
     "name": "stdout",
     "output_type": "stream",
     "text": [
      "The df's shape is (13320, 9)\n"
     ]
    },
    {
     "data": {
      "text/html": [
       "<div>\n",
       "<style scoped>\n",
       "    .dataframe tbody tr th:only-of-type {\n",
       "        vertical-align: middle;\n",
       "    }\n",
       "\n",
       "    .dataframe tbody tr th {\n",
       "        vertical-align: top;\n",
       "    }\n",
       "\n",
       "    .dataframe thead th {\n",
       "        text-align: right;\n",
       "    }\n",
       "</style>\n",
       "<table border=\"1\" class=\"dataframe\">\n",
       "  <thead>\n",
       "    <tr style=\"text-align: right;\">\n",
       "      <th></th>\n",
       "      <th>area_type</th>\n",
       "      <th>availability</th>\n",
       "      <th>location</th>\n",
       "      <th>size</th>\n",
       "      <th>society</th>\n",
       "      <th>total_sqft</th>\n",
       "      <th>bath</th>\n",
       "      <th>balcony</th>\n",
       "      <th>price</th>\n",
       "    </tr>\n",
       "  </thead>\n",
       "  <tbody>\n",
       "    <tr>\n",
       "      <th>0</th>\n",
       "      <td>Super built-up  Area</td>\n",
       "      <td>19-Dec</td>\n",
       "      <td>Electronic City Phase II</td>\n",
       "      <td>2 BHK</td>\n",
       "      <td>Coomee</td>\n",
       "      <td>1056</td>\n",
       "      <td>2.0</td>\n",
       "      <td>1.0</td>\n",
       "      <td>39.07</td>\n",
       "    </tr>\n",
       "    <tr>\n",
       "      <th>1</th>\n",
       "      <td>Plot  Area</td>\n",
       "      <td>Ready To Move</td>\n",
       "      <td>Chikka Tirupathi</td>\n",
       "      <td>4 Bedroom</td>\n",
       "      <td>Theanmp</td>\n",
       "      <td>2600</td>\n",
       "      <td>5.0</td>\n",
       "      <td>3.0</td>\n",
       "      <td>120.00</td>\n",
       "    </tr>\n",
       "    <tr>\n",
       "      <th>2</th>\n",
       "      <td>Built-up  Area</td>\n",
       "      <td>Ready To Move</td>\n",
       "      <td>Uttarahalli</td>\n",
       "      <td>3 BHK</td>\n",
       "      <td>NaN</td>\n",
       "      <td>1440</td>\n",
       "      <td>2.0</td>\n",
       "      <td>3.0</td>\n",
       "      <td>62.00</td>\n",
       "    </tr>\n",
       "    <tr>\n",
       "      <th>3</th>\n",
       "      <td>Super built-up  Area</td>\n",
       "      <td>Ready To Move</td>\n",
       "      <td>Lingadheeranahalli</td>\n",
       "      <td>3 BHK</td>\n",
       "      <td>Soiewre</td>\n",
       "      <td>1521</td>\n",
       "      <td>3.0</td>\n",
       "      <td>1.0</td>\n",
       "      <td>95.00</td>\n",
       "    </tr>\n",
       "    <tr>\n",
       "      <th>4</th>\n",
       "      <td>Super built-up  Area</td>\n",
       "      <td>Ready To Move</td>\n",
       "      <td>Kothanur</td>\n",
       "      <td>2 BHK</td>\n",
       "      <td>NaN</td>\n",
       "      <td>1200</td>\n",
       "      <td>2.0</td>\n",
       "      <td>1.0</td>\n",
       "      <td>51.00</td>\n",
       "    </tr>\n",
       "  </tbody>\n",
       "</table>\n",
       "</div>"
      ],
      "text/plain": [
       "              area_type   availability                  location       size  \\\n",
       "0  Super built-up  Area         19-Dec  Electronic City Phase II      2 BHK   \n",
       "1            Plot  Area  Ready To Move          Chikka Tirupathi  4 Bedroom   \n",
       "2        Built-up  Area  Ready To Move               Uttarahalli      3 BHK   \n",
       "3  Super built-up  Area  Ready To Move        Lingadheeranahalli      3 BHK   \n",
       "4  Super built-up  Area  Ready To Move                  Kothanur      2 BHK   \n",
       "\n",
       "   society total_sqft  bath  balcony   price  \n",
       "0  Coomee        1056   2.0      1.0   39.07  \n",
       "1  Theanmp       2600   5.0      3.0  120.00  \n",
       "2      NaN       1440   2.0      3.0   62.00  \n",
       "3  Soiewre       1521   3.0      1.0   95.00  \n",
       "4      NaN       1200   2.0      1.0   51.00  "
      ]
     },
     "execution_count": 2,
     "metadata": {},
     "output_type": "execute_result"
    }
   ],
   "source": [
    "df = pd.read_csv(\"Bengaluru_House_Data.csv\")\n",
    "print(\"The df's shape is\", df.shape)\n",
    "df.head()"
   ]
  },
  {
   "cell_type": "markdown",
   "id": "7f3c71cd",
   "metadata": {},
   "source": [
    "### 2. Data manipulation"
   ]
  },
  {
   "cell_type": "code",
   "execution_count": 3,
   "id": "1ef4e671",
   "metadata": {},
   "outputs": [
    {
     "name": "stdout",
     "output_type": "stream",
     "text": [
      "Area types are ['Super built-up  Area' 'Plot  Area' 'Built-up  Area' 'Carpet  Area']\n"
     ]
    },
    {
     "data": {
      "text/plain": [
       "<AxesSubplot:>"
      ]
     },
     "execution_count": 3,
     "metadata": {},
     "output_type": "execute_result"
    },
    {
     "data": {
      "image/png": "[encoded data removed]",
      "text/plain": [
       "<Figure size 640x480 with 1 Axes>"
      ]
     },
     "metadata": {},
     "output_type": "display_data"
    }
   ],
   "source": [
    "print(\"Area types are\",df['area_type'].unique())\n",
    "pd.value_counts(df['area_type']).plot.bar()"
   ]
  },
  {
   "cell_type": "code",
   "execution_count": 4,
   "id": "133bcdcc",
   "metadata": {
    "scrolled": false
   },
   "outputs": [
    {
     "data": {
      "text/plain": [
       "area_type\n",
       "Built-up  Area          2418\n",
       "Carpet  Area              87\n",
       "Plot  Area              2025\n",
       "Super built-up  Area    8790\n",
       "Name: area_type, dtype: int64"
      ]
     },
     "execution_count": 4,
     "metadata": {},
     "output_type": "execute_result"
    }
   ],
   "source": [
    "df.groupby('area_type')['area_type'].agg('count')"
   ]
  },
  {
   "cell_type": "code",
   "execution_count": 5,
   "id": "6d941cf2",
   "metadata": {},
   "outputs": [
    {
     "data": {
      "text/html": [
       "<div>\n",
       "<style scoped>\n",
       "    .dataframe tbody tr th:only-of-type {\n",
       "        vertical-align: middle;\n",
       "    }\n",
       "\n",
       "    .dataframe tbody tr th {\n",
       "        vertical-align: top;\n",
       "    }\n",
       "\n",
       "    .dataframe thead th {\n",
       "        text-align: right;\n",
       "    }\n",
       "</style>\n",
       "<table border=\"1\" class=\"dataframe\">\n",
       "  <thead>\n",
       "    <tr style=\"text-align: right;\">\n",
       "      <th></th>\n",
       "      <th>location</th>\n",
       "      <th>size</th>\n",
       "      <th>total_sqft</th>\n",
       "      <th>bath</th>\n",
       "      <th>price</th>\n",
       "    </tr>\n",
       "  </thead>\n",
       "  <tbody>\n",
       "    <tr>\n",
       "      <th>0</th>\n",
       "      <td>Electronic City Phase II</td>\n",
       "      <td>2 BHK</td>\n",
       "      <td>1056</td>\n",
       "      <td>2.0</td>\n",
       "      <td>39.07</td>\n",
       "    </tr>\n",
       "    <tr>\n",
       "      <th>1</th>\n",
       "      <td>Chikka Tirupathi</td>\n",
       "      <td>4 Bedroom</td>\n",
       "      <td>2600</td>\n",
       "      <td>5.0</td>\n",
       "      <td>120.00</td>\n",
       "    </tr>\n",
       "    <tr>\n",
       "      <th>2</th>\n",
       "      <td>Uttarahalli</td>\n",
       "      <td>3 BHK</td>\n",
       "      <td>1440</td>\n",
       "      <td>2.0</td>\n",
       "      <td>62.00</td>\n",
       "    </tr>\n",
       "    <tr>\n",
       "      <th>3</th>\n",
       "      <td>Lingadheeranahalli</td>\n",
       "      <td>3 BHK</td>\n",
       "      <td>1521</td>\n",
       "      <td>3.0</td>\n",
       "      <td>95.00</td>\n",
       "    </tr>\n",
       "    <tr>\n",
       "      <th>4</th>\n",
       "      <td>Kothanur</td>\n",
       "      <td>2 BHK</td>\n",
       "      <td>1200</td>\n",
       "      <td>2.0</td>\n",
       "      <td>51.00</td>\n",
       "    </tr>\n",
       "  </tbody>\n",
       "</table>\n",
       "</div>"
      ],
      "text/plain": [
       "                   location       size total_sqft  bath   price\n",
       "0  Electronic City Phase II      2 BHK       1056   2.0   39.07\n",
       "1          Chikka Tirupathi  4 Bedroom       2600   5.0  120.00\n",
       "2               Uttarahalli      3 BHK       1440   2.0   62.00\n",
       "3        Lingadheeranahalli      3 BHK       1521   3.0   95.00\n",
       "4                  Kothanur      2 BHK       1200   2.0   51.00"
      ]
     },
     "execution_count": 5,
     "metadata": {},
     "output_type": "execute_result"
    }
   ],
   "source": [
    "df2 = df.drop(['area_type', 'society', 'balcony', 'availability'],axis = 'columns')\n",
    "df2.head()"
   ]
  },
  {
   "cell_type": "code",
   "execution_count": 6,
   "id": "6878ef83",
   "metadata": {
    "scrolled": false
   },
   "outputs": [
    {
     "data": {
      "text/plain": [
       "location       1\n",
       "size          16\n",
       "total_sqft     0\n",
       "bath          73\n",
       "price          0\n",
       "dtype: int64"
      ]
     },
     "execution_count": 6,
     "metadata": {},
     "output_type": "execute_result"
    }
   ],
   "source": [
    "# As the empty cells are not too many and the dataset is medium size, they will be dropped\n",
    "df2.isnull().sum()"
   ]
  },
  {
   "cell_type": "code",
   "execution_count": 7,
   "id": "91cde1d5",
   "metadata": {
    "scrolled": true
   },
   "outputs": [
    {
     "data": {
      "text/plain": [
       "(13246, 5)"
      ]
     },
     "execution_count": 7,
     "metadata": {},
     "output_type": "execute_result"
    }
   ],
   "source": [
    "df3 = df2.dropna()\n",
    "df3.shape"
   ]
  },
  {
   "cell_type": "code",
   "execution_count": 8,
   "id": "77b3db7e",
   "metadata": {
    "scrolled": false
   },
   "outputs": [
    {
     "data": {
      "text/plain": [
       "array(['2 BHK', '4 Bedroom', '3 BHK', '4 BHK', '6 Bedroom', '3 Bedroom',\n",
       "       '1 BHK', '1 RK', '1 Bedroom', '8 Bedroom', '2 Bedroom',\n",
       "       '7 Bedroom', '5 BHK', '7 BHK', '6 BHK', '5 Bedroom', '11 BHK',\n",
       "       '9 BHK', '9 Bedroom', '27 BHK', '10 Bedroom', '11 Bedroom',\n",
       "       '10 BHK', '19 BHK', '16 BHK', '43 Bedroom', '14 BHK', '8 BHK',\n",
       "       '12 Bedroom', '13 BHK', '18 Bedroom'], dtype=object)"
      ]
     },
     "execution_count": 8,
     "metadata": {},
     "output_type": "execute_result"
    }
   ],
   "source": [
    "# BHK and Bedroom are the same, will proceed to make the data uniform\n",
    "df3[\"size\"].unique()"
   ]
  },
  {
   "cell_type": "code",
   "execution_count": 9,
   "id": "3519a091",
   "metadata": {},
   "outputs": [
    {
     "data": {
      "text/html": [
       "<div>\n",
       "<style scoped>\n",
       "    .dataframe tbody tr th:only-of-type {\n",
       "        vertical-align: middle;\n",
       "    }\n",
       "\n",
       "    .dataframe tbody tr th {\n",
       "        vertical-align: top;\n",
       "    }\n",
       "\n",
       "    .dataframe thead th {\n",
       "        text-align: right;\n",
       "    }\n",
       "</style>\n",
       "<table border=\"1\" class=\"dataframe\">\n",
       "  <thead>\n",
       "    <tr style=\"text-align: right;\">\n",
       "      <th></th>\n",
       "      <th>location</th>\n",
       "      <th>size</th>\n",
       "      <th>total_sqft</th>\n",
       "      <th>bath</th>\n",
       "      <th>price</th>\n",
       "    </tr>\n",
       "  </thead>\n",
       "  <tbody>\n",
       "    <tr>\n",
       "      <th>0</th>\n",
       "      <td>Electronic City Phase II</td>\n",
       "      <td>2 BHK</td>\n",
       "      <td>1056</td>\n",
       "      <td>2.0</td>\n",
       "      <td>39.07</td>\n",
       "    </tr>\n",
       "    <tr>\n",
       "      <th>1</th>\n",
       "      <td>Chikka Tirupathi</td>\n",
       "      <td>4 Bedroom</td>\n",
       "      <td>2600</td>\n",
       "      <td>5.0</td>\n",
       "      <td>120.00</td>\n",
       "    </tr>\n",
       "    <tr>\n",
       "      <th>2</th>\n",
       "      <td>Uttarahalli</td>\n",
       "      <td>3 BHK</td>\n",
       "      <td>1440</td>\n",
       "      <td>2.0</td>\n",
       "      <td>62.00</td>\n",
       "    </tr>\n",
       "    <tr>\n",
       "      <th>3</th>\n",
       "      <td>Lingadheeranahalli</td>\n",
       "      <td>3 BHK</td>\n",
       "      <td>1521</td>\n",
       "      <td>3.0</td>\n",
       "      <td>95.00</td>\n",
       "    </tr>\n",
       "    <tr>\n",
       "      <th>4</th>\n",
       "      <td>Kothanur</td>\n",
       "      <td>2 BHK</td>\n",
       "      <td>1200</td>\n",
       "      <td>2.0</td>\n",
       "      <td>51.00</td>\n",
       "    </tr>\n",
       "  </tbody>\n",
       "</table>\n",
       "</div>"
      ],
      "text/plain": [
       "                   location       size total_sqft  bath   price\n",
       "0  Electronic City Phase II      2 BHK       1056   2.0   39.07\n",
       "1          Chikka Tirupathi  4 Bedroom       2600   5.0  120.00\n",
       "2               Uttarahalli      3 BHK       1440   2.0   62.00\n",
       "3        Lingadheeranahalli      3 BHK       1521   3.0   95.00\n",
       "4                  Kothanur      2 BHK       1200   2.0   51.00"
      ]
     },
     "execution_count": 9,
     "metadata": {},
     "output_type": "execute_result"
    }
   ],
   "source": [
    "df3.head()"
   ]
  },
  {
   "cell_type": "code",
   "execution_count": 10,
   "id": "f37269de",
   "metadata": {
    "scrolled": false
   },
   "outputs": [],
   "source": [
    "bhk = []\n",
    "for row in df3['size']:\n",
    "    number = row.split()[0]\n",
    "    bhk.append(number)"
   ]
  },
  {
   "cell_type": "code",
   "execution_count": 11,
   "id": "da826e34",
   "metadata": {
    "scrolled": false
   },
   "outputs": [
    {
     "data": {
      "text/plain": [
       "array(['2', '4', '3', '6', '1', '8', '7', '5', '11', '9', '27', '10',\n",
       "       '19', '16', '43', '14', '12', '13', '18'], dtype=object)"
      ]
     },
     "execution_count": 11,
     "metadata": {},
     "output_type": "execute_result"
    }
   ],
   "source": [
    "df3['BHK'] = bhk\n",
    "df3['BHK'].unique()"
   ]
  },
  {
   "cell_type": "code",
   "execution_count": 12,
   "id": "69bb52e9",
   "metadata": {
    "scrolled": true
   },
   "outputs": [],
   "source": [
    "df3['BHK'].dtypes\n",
    "df3['BHK'] = df3['BHK'].astype('int')"
   ]
  },
  {
   "cell_type": "code",
   "execution_count": 13,
   "id": "23fe3705",
   "metadata": {
    "scrolled": true
   },
   "outputs": [
    {
     "name": "stdout",
     "output_type": "stream",
     "text": [
      "Houses that have more than 20 rooms\n"
     ]
    },
    {
     "data": {
      "text/html": [
       "<div>\n",
       "<style scoped>\n",
       "    .dataframe tbody tr th:only-of-type {\n",
       "        vertical-align: middle;\n",
       "    }\n",
       "\n",
       "    .dataframe tbody tr th {\n",
       "        vertical-align: top;\n",
       "    }\n",
       "\n",
       "    .dataframe thead th {\n",
       "        text-align: right;\n",
       "    }\n",
       "</style>\n",
       "<table border=\"1\" class=\"dataframe\">\n",
       "  <thead>\n",
       "    <tr style=\"text-align: right;\">\n",
       "      <th></th>\n",
       "      <th>location</th>\n",
       "      <th>size</th>\n",
       "      <th>total_sqft</th>\n",
       "      <th>bath</th>\n",
       "      <th>price</th>\n",
       "      <th>BHK</th>\n",
       "    </tr>\n",
       "  </thead>\n",
       "  <tbody>\n",
       "    <tr>\n",
       "      <th>1718</th>\n",
       "      <td>2Electronic City Phase II</td>\n",
       "      <td>27 BHK</td>\n",
       "      <td>8000</td>\n",
       "      <td>27.0</td>\n",
       "      <td>230.0</td>\n",
       "      <td>27</td>\n",
       "    </tr>\n",
       "    <tr>\n",
       "      <th>4684</th>\n",
       "      <td>Munnekollal</td>\n",
       "      <td>43 Bedroom</td>\n",
       "      <td>2400</td>\n",
       "      <td>40.0</td>\n",
       "      <td>660.0</td>\n",
       "      <td>43</td>\n",
       "    </tr>\n",
       "  </tbody>\n",
       "</table>\n",
       "</div>"
      ],
      "text/plain": [
       "                       location        size total_sqft  bath  price  BHK\n",
       "1718  2Electronic City Phase II      27 BHK       8000  27.0  230.0   27\n",
       "4684                Munnekollal  43 Bedroom       2400  40.0  660.0   43"
      ]
     },
     "execution_count": 13,
     "metadata": {},
     "output_type": "execute_result"
    }
   ],
   "source": [
    "print(\"Houses that have more than 20 rooms\")\n",
    "df3[df3.BHK>20]"
   ]
  },
  {
   "cell_type": "code",
   "execution_count": 14,
   "id": "5de90dec",
   "metadata": {
    "scrolled": true
   },
   "outputs": [
    {
     "data": {
      "text/plain": [
       "BHK\n",
       "1      649\n",
       "2     5527\n",
       "3     4832\n",
       "4     1395\n",
       "5      353\n",
       "6      221\n",
       "7      100\n",
       "8       89\n",
       "9       54\n",
       "10      14\n",
       "11       4\n",
       "12       1\n",
       "13       1\n",
       "14       1\n",
       "16       1\n",
       "18       1\n",
       "19       1\n",
       "27       1\n",
       "43       1\n",
       "Name: BHK, dtype: int64"
      ]
     },
     "execution_count": 14,
     "metadata": {},
     "output_type": "execute_result"
    }
   ],
   "source": [
    "df3.groupby('BHK')['BHK'].agg('count')"
   ]
  },
  {
   "cell_type": "code",
   "execution_count": 15,
   "id": "0b4a4d51",
   "metadata": {
    "scrolled": false
   },
   "outputs": [
    {
     "data": {
      "text/plain": [
       "array(['1056', '2600', '1440', ..., '1133 - 1384', '774', '4689'],\n",
       "      dtype=object)"
      ]
     },
     "execution_count": 15,
     "metadata": {},
     "output_type": "execute_result"
    }
   ],
   "source": [
    "df3.total_sqft.unique()\n",
    "# we can observe ranges of values... are there any other possibilities than just numbers/ranges?"
   ]
  },
  {
   "cell_type": "code",
   "execution_count": 16,
   "id": "4af356f2",
   "metadata": {
    "scrolled": true
   },
   "outputs": [
    {
     "name": "stdout",
     "output_type": "stream",
     "text": [
      "2100 - 2850\n",
      "3067 - 8156\n",
      "1042 - 1105\n",
      "1145 - 1340\n",
      "1015 - 1540\n",
      "34.46Sq. Meter\n",
      "1195 - 1440\n",
      "4125Perch\n",
      "1120 - 1145\n",
      "3090 - 5002\n",
      "1160 - 1195\n",
      "1000Sq. Meter\n",
      "1115 - 1130\n",
      "1100Sq. Yards\n",
      "520 - 645\n",
      "1000 - 1285\n",
      "650 - 665\n",
      "633 - 666\n",
      "5.31Acres\n",
      "30Acres\n",
      "1445 - 1455\n",
      "884 - 1116\n",
      "850 - 1093\n",
      "716Sq. Meter\n",
      "547.34 - 827.31\n",
      "580 - 650\n",
      "3425 - 3435\n",
      "1804 - 2273\n",
      "3630 - 3800\n",
      "4000 - 5249\n",
      "1500Sq. Meter\n",
      "142.61Sq. Meter\n",
      "1574Sq. Yards\n",
      "1250 - 1305\n",
      "670 - 980\n",
      "1005.03 - 1252.49\n",
      "3630 - 3800\n",
      "1004 - 1204\n",
      "361.33Sq. Yards\n",
      "645 - 936\n",
      "2710 - 3360\n",
      "2830 - 2882\n",
      "596 - 804\n",
      "1255 - 1863\n",
      "1300 - 1405\n",
      "117Sq. Yards\n",
      "934 - 1437\n",
      "980 - 1030\n",
      "2249.81 - 4112.19\n",
      "1070 - 1315\n",
      "3040Sq. Meter\n",
      "500Sq. Yards\n",
      "2806 - 3019\n",
      "613 - 648\n",
      "704 - 730\n",
      "1210 - 1477\n",
      "3369 - 3464\n",
      "1125 - 1500\n",
      "167Sq. Meter\n",
      "1076 - 1199\n",
      "381 - 535\n",
      "524 - 894\n",
      "540 - 670\n",
      "315Sq. Yards\n",
      "2725 - 3250\n",
      "888 - 1290\n",
      "660 - 700\n",
      "385 - 440\n",
      "770 - 841\n",
      "524 - 894\n",
      "3Cents\n",
      "188.89Sq. Yards\n",
      "1469 - 1766\n",
      "204Sq. Meter\n",
      "1255 - 1350\n",
      "870 - 1080\n",
      "45Sq. Yards\n",
      "133.3Sq. Yards\n",
      "2580 - 2591\n",
      "613 - 648\n",
      "2563 - 2733\n",
      "605 - 624\n",
      "1349 - 3324\n",
      "78.03Sq. Meter\n",
      "1255 - 1350\n",
      "3300 - 3335\n",
      "1180 - 1630\n",
      "1365 - 1700\n",
      "122Sq. Yards\n",
      "2830 - 2882\n",
      "84.53Sq. Meter\n",
      "2.09Acres\n",
      "2830 - 2882\n",
      "981 - 1249\n",
      "1565 - 1595\n",
      "24Guntha\n",
      "1270 - 1275\n",
      "840 - 1010\n",
      "697Sq. Meter\n",
      "2830 - 2882\n",
      "655 - 742\n",
      "1408 - 1455\n",
      "942 - 1117\n",
      "142.61Sq. Meter\n",
      "598 - 958\n",
      "1500Cents\n",
      "132Sq. Yards\n",
      "1010 - 1300\n",
      "2Acres\n",
      "1450 - 1950\n",
      "1100Sq. Meter\n",
      "15Acres\n",
      "763 - 805\n",
      "3307 - 3464\n",
      "1.26Acres\n",
      "620 - 934\n",
      "2462 - 2467\n",
      "540 - 740\n",
      "3508 - 4201\n",
      "4900 - 4940\n",
      "755 - 770\n",
      "664 - 722\n",
      "151.11Sq. Yards\n",
      "596 - 861\n",
      "615 - 985\n",
      "540 - 565\n",
      "750 - 800\n",
      "1660 - 1805\n",
      "1365 - 1700\n",
      "1079 - 1183\n",
      "2800 - 2870\n",
      "1230 - 1290\n",
      "943 - 1220\n",
      "2041 - 2090\n",
      "527 - 639\n",
      "645 - 936\n",
      "1Grounds\n",
      "1160 - 1315\n",
      "706 - 716\n",
      "2940Sq. Yards\n",
      "45.06Sq. Meter\n",
      "799 - 803\n",
      "2470 - 2790\n",
      "783 - 943\n",
      "4500 - 5540\n",
      "1255 - 1375\n",
      "610 - 615\n",
      "854 - 960\n",
      "2650 - 2990\n",
      "1.25Acres\n",
      "86.72Sq. Meter\n",
      "381 - 535\n",
      "1230 - 1490\n",
      "3630 - 3800\n",
      "660 - 780\n",
      "1150 - 1194\n",
      "684 - 810\n",
      "1510 - 1670\n",
      "1550 - 1590\n",
      "1235 - 1410\n",
      "38Guntha\n",
      "929 - 1078\n",
      "2150 - 2225\n",
      "1520 - 1759\n",
      "2580 - 2591\n",
      "629 - 1026\n",
      "1215 - 1495\n",
      "6Acres\n",
      "1140 - 1250\n",
      "2400 - 2600\n",
      "1052 - 1322\n",
      "5666 - 5669\n",
      "620 - 934\n",
      "712 - 938\n",
      "1783 - 1878\n",
      "120Sq. Yards\n",
      "24Sq. Meter\n",
      "2528 - 3188\n",
      "650 - 760\n",
      "1400 - 1421\n",
      "4000 - 4450\n",
      "142.84Sq. Meter\n",
      "300Sq. Yards\n",
      "1115 - 1130\n",
      "1437 - 1629\n",
      "850 - 1060\n",
      "1804 - 2273\n",
      "1200 - 1470\n",
      "1133 - 1384\n",
      "2830 - 2882\n"
     ]
    }
   ],
   "source": [
    "for row in df3['total_sqft']:\n",
    "    try:\n",
    "        row = float(row)\n",
    "    except:\n",
    "        print(row)"
   ]
  },
  {
   "cell_type": "code",
   "execution_count": 21,
   "id": "ed114cec",
   "metadata": {},
   "outputs": [],
   "source": [
    "i = 0\n",
    "for row in df3['total_sqft']:\n",
    "    try:\n",
    "        df3.at[i, 'total_sqft'] = float(row)\n",
    "    except:\n",
    "        if \" - \"  in row:\n",
    "            values = row.split(\" - \")\n",
    "            values = [float(x) for x in values]\n",
    "            suitable_value = sum(values)/len(values)\n",
    "            df3.at[i, 'total_sqft'] = suitable_value\n",
    "        elif \"Sq. Meter\" in row:\n",
    "            values = row.split(\"Sq.\")\n",
    "            suitable_value = float(values[0])\n",
    "            df3.at[i, 'total_sqft'] = suitable_value * 10.7639 \n",
    "        elif \"Sq. Yards\" in row:\n",
    "            values = row.split(\"Sq.\")\n",
    "            suitable_value = float(values[0])\n",
    "            df3.at[i, 'total_sqft'] = suitable_value * 9\n",
    "        elif \"Acres\" in row:\n",
    "            values = row.split(\"Acres\")\n",
    "            suitable_value = float(values[0])\n",
    "            df3.at[i, 'total_sqft'] = suitable_value * 43560\n",
    "        else:\n",
    "            df3.drop(i)\n",
    "    i += 1\n"
   ]
  },
  {
   "cell_type": "code",
   "execution_count": 22,
   "id": "e2fda535",
   "metadata": {
    "scrolled": true
   },
   "outputs": [
    {
     "data": {
      "text/html": [
       "<div>\n",
       "<style scoped>\n",
       "    .dataframe tbody tr th:only-of-type {\n",
       "        vertical-align: middle;\n",
       "    }\n",
       "\n",
       "    .dataframe tbody tr th {\n",
       "        vertical-align: top;\n",
       "    }\n",
       "\n",
       "    .dataframe thead th {\n",
       "        text-align: right;\n",
       "    }\n",
       "</style>\n",
       "<table border=\"1\" class=\"dataframe\">\n",
       "  <thead>\n",
       "    <tr style=\"text-align: right;\">\n",
       "      <th></th>\n",
       "      <th>location</th>\n",
       "      <th>size</th>\n",
       "      <th>total_sqft</th>\n",
       "      <th>bath</th>\n",
       "      <th>price</th>\n",
       "      <th>BHK</th>\n",
       "    </tr>\n",
       "  </thead>\n",
       "  <tbody>\n",
       "    <tr>\n",
       "      <th>0</th>\n",
       "      <td>Electronic City Phase II</td>\n",
       "      <td>2 BHK</td>\n",
       "      <td>1056.0</td>\n",
       "      <td>2.0</td>\n",
       "      <td>39.07</td>\n",
       "      <td>2.0</td>\n",
       "    </tr>\n",
       "    <tr>\n",
       "      <th>1</th>\n",
       "      <td>Chikka Tirupathi</td>\n",
       "      <td>4 Bedroom</td>\n",
       "      <td>2600.0</td>\n",
       "      <td>5.0</td>\n",
       "      <td>120.00</td>\n",
       "      <td>4.0</td>\n",
       "    </tr>\n",
       "    <tr>\n",
       "      <th>2</th>\n",
       "      <td>Uttarahalli</td>\n",
       "      <td>3 BHK</td>\n",
       "      <td>1440.0</td>\n",
       "      <td>2.0</td>\n",
       "      <td>62.00</td>\n",
       "      <td>3.0</td>\n",
       "    </tr>\n",
       "    <tr>\n",
       "      <th>3</th>\n",
       "      <td>Lingadheeranahalli</td>\n",
       "      <td>3 BHK</td>\n",
       "      <td>1521.0</td>\n",
       "      <td>3.0</td>\n",
       "      <td>95.00</td>\n",
       "      <td>3.0</td>\n",
       "    </tr>\n",
       "    <tr>\n",
       "      <th>4</th>\n",
       "      <td>Kothanur</td>\n",
       "      <td>2 BHK</td>\n",
       "      <td>1200.0</td>\n",
       "      <td>2.0</td>\n",
       "      <td>51.00</td>\n",
       "      <td>2.0</td>\n",
       "    </tr>\n",
       "  </tbody>\n",
       "</table>\n",
       "</div>"
      ],
      "text/plain": [
       "                   location       size total_sqft  bath   price  BHK\n",
       "0  Electronic City Phase II      2 BHK     1056.0   2.0   39.07  2.0\n",
       "1          Chikka Tirupathi  4 Bedroom     2600.0   5.0  120.00  4.0\n",
       "2               Uttarahalli      3 BHK     1440.0   2.0   62.00  3.0\n",
       "3        Lingadheeranahalli      3 BHK     1521.0   3.0   95.00  3.0\n",
       "4                  Kothanur      2 BHK     1200.0   2.0   51.00  2.0"
      ]
     },
     "execution_count": 22,
     "metadata": {},
     "output_type": "execute_result"
    }
   ],
   "source": [
    "df3.head()"
   ]
  },
  {
   "cell_type": "code",
   "execution_count": 23,
   "id": "58f31660",
   "metadata": {},
   "outputs": [],
   "source": [
    "df4 = df3.copy()"
   ]
  },
  {
   "cell_type": "code",
   "execution_count": 24,
   "id": "3af8aaae",
   "metadata": {
    "scrolled": false
   },
   "outputs": [
    {
     "data": {
      "text/html": [
       "<div>\n",
       "<style scoped>\n",
       "    .dataframe tbody tr th:only-of-type {\n",
       "        vertical-align: middle;\n",
       "    }\n",
       "\n",
       "    .dataframe tbody tr th {\n",
       "        vertical-align: top;\n",
       "    }\n",
       "\n",
       "    .dataframe thead th {\n",
       "        text-align: right;\n",
       "    }\n",
       "</style>\n",
       "<table border=\"1\" class=\"dataframe\">\n",
       "  <thead>\n",
       "    <tr style=\"text-align: right;\">\n",
       "      <th></th>\n",
       "      <th>location</th>\n",
       "      <th>size</th>\n",
       "      <th>total_sqft</th>\n",
       "      <th>bath</th>\n",
       "      <th>price</th>\n",
       "      <th>BHK</th>\n",
       "      <th>price_per_sqft</th>\n",
       "    </tr>\n",
       "  </thead>\n",
       "  <tbody>\n",
       "    <tr>\n",
       "      <th>0</th>\n",
       "      <td>Electronic City Phase II</td>\n",
       "      <td>2 BHK</td>\n",
       "      <td>1056.0</td>\n",
       "      <td>2.0</td>\n",
       "      <td>39.07</td>\n",
       "      <td>2.0</td>\n",
       "      <td>3699.810606</td>\n",
       "    </tr>\n",
       "    <tr>\n",
       "      <th>1</th>\n",
       "      <td>Chikka Tirupathi</td>\n",
       "      <td>4 Bedroom</td>\n",
       "      <td>2600.0</td>\n",
       "      <td>5.0</td>\n",
       "      <td>120.00</td>\n",
       "      <td>4.0</td>\n",
       "      <td>4615.384615</td>\n",
       "    </tr>\n",
       "    <tr>\n",
       "      <th>2</th>\n",
       "      <td>Uttarahalli</td>\n",
       "      <td>3 BHK</td>\n",
       "      <td>1440.0</td>\n",
       "      <td>2.0</td>\n",
       "      <td>62.00</td>\n",
       "      <td>3.0</td>\n",
       "      <td>4305.555556</td>\n",
       "    </tr>\n",
       "    <tr>\n",
       "      <th>3</th>\n",
       "      <td>Lingadheeranahalli</td>\n",
       "      <td>3 BHK</td>\n",
       "      <td>1521.0</td>\n",
       "      <td>3.0</td>\n",
       "      <td>95.00</td>\n",
       "      <td>3.0</td>\n",
       "      <td>6245.890861</td>\n",
       "    </tr>\n",
       "    <tr>\n",
       "      <th>4</th>\n",
       "      <td>Kothanur</td>\n",
       "      <td>2 BHK</td>\n",
       "      <td>1200.0</td>\n",
       "      <td>2.0</td>\n",
       "      <td>51.00</td>\n",
       "      <td>2.0</td>\n",
       "      <td>4250.0</td>\n",
       "    </tr>\n",
       "  </tbody>\n",
       "</table>\n",
       "</div>"
      ],
      "text/plain": [
       "                   location       size total_sqft  bath   price  BHK  \\\n",
       "0  Electronic City Phase II      2 BHK     1056.0   2.0   39.07  2.0   \n",
       "1          Chikka Tirupathi  4 Bedroom     2600.0   5.0  120.00  4.0   \n",
       "2               Uttarahalli      3 BHK     1440.0   2.0   62.00  3.0   \n",
       "3        Lingadheeranahalli      3 BHK     1521.0   3.0   95.00  3.0   \n",
       "4                  Kothanur      2 BHK     1200.0   2.0   51.00  2.0   \n",
       "\n",
       "  price_per_sqft  \n",
       "0    3699.810606  \n",
       "1    4615.384615  \n",
       "2    4305.555556  \n",
       "3    6245.890861  \n",
       "4         4250.0  "
      ]
     },
     "execution_count": 24,
     "metadata": {},
     "output_type": "execute_result"
    }
   ],
   "source": [
    "df4[\"price_per_sqft\"] = df3[\"price\"]*100000/df3[\"total_sqft\"]\n",
    "df4.head()"
   ]
  },
  {
   "cell_type": "code",
   "execution_count": 26,
   "id": "f13f95f8",
   "metadata": {
    "scrolled": false
   },
   "outputs": [
    {
     "data": {
      "text/plain": [
       "array(['Electronic City Phase II', 'Chikka Tirupathi', 'Uttarahalli', ...,\n",
       "       '12th cross srinivas nagar banshankari 3rd stage',\n",
       "       'Havanur extension', 'Abshot Layout'], dtype=object)"
      ]
     },
     "execution_count": 26,
     "metadata": {},
     "output_type": "execute_result"
    }
   ],
   "source": [
    "#dimention issues, too many locations\n",
    "df4 = df4.dropna()\n",
    "df4.location.unique()"
   ]
  },
  {
   "cell_type": "code",
   "execution_count": 27,
   "id": "a4a4aca2",
   "metadata": {
    "scrolled": true
   },
   "outputs": [],
   "source": [
    "for row in df4['location']:\n",
    "    if not(isinstance(row, str)):\n",
    "        print(row)"
   ]
  },
  {
   "cell_type": "code",
   "execution_count": 28,
   "id": "38a84400",
   "metadata": {},
   "outputs": [],
   "source": [
    "# multiple values from the index column where skipped \n",
    "df4 = df4.reset_index(drop=True)"
   ]
  },
  {
   "cell_type": "code",
   "execution_count": 29,
   "id": "d6b3d499",
   "metadata": {},
   "outputs": [],
   "source": [
    "for i in range(len(df4)-1):\n",
    "    locatiion = df4['location'][i]\n",
    "    df4.at[i, 'location'] = locatiion.strip()\n",
    "    "
   ]
  },
  {
   "cell_type": "code",
   "execution_count": 30,
   "id": "d86d0d2d",
   "metadata": {
    "scrolled": true
   },
   "outputs": [
    {
     "data": {
      "text/plain": [
       "location\n",
       "Whitefield               535\n",
       "Sarjapur  Road           392\n",
       "Electronic City          304\n",
       "Kanakpura Road           266\n",
       "Thanisandra              236\n",
       "                        ... \n",
       "1 Giri Nagar               1\n",
       "Kanakapura Road,           1\n",
       "Kanakapura main  Road      1\n",
       "Karnataka Shabarimala      1\n",
       "whitefiled                 1\n",
       "Name: location, Length: 1293, dtype: int64"
      ]
     },
     "execution_count": 30,
     "metadata": {},
     "output_type": "execute_result"
    }
   ],
   "source": [
    "location_stats = df4.groupby('location')['location'].agg('count').sort_values(ascending=False)\n",
    "location_stats"
   ]
  },
  {
   "cell_type": "code",
   "execution_count": 31,
   "id": "785856f8",
   "metadata": {},
   "outputs": [
    {
     "data": {
      "text/plain": [
       "1052"
      ]
     },
     "execution_count": 31,
     "metadata": {},
     "output_type": "execute_result"
    }
   ],
   "source": [
    "# NOTE: THIS IS THE SAME AS A FOR LOOP\n",
    "location_stats_less_10 = location_stats[location_stats<=10]\n",
    "len(location_stats_less_10)"
   ]
  },
  {
   "cell_type": "code",
   "execution_count": 32,
   "id": "128dadba",
   "metadata": {},
   "outputs": [
    {
     "data": {
      "text/plain": [
       "location\n",
       "Basapura                 10\n",
       "1st Block Koramangala    10\n",
       "Gunjur Palya             10\n",
       "Kalkere                  10\n",
       "Sector 1 HSR Layout      10\n",
       "                         ..\n",
       "1 Giri Nagar              1\n",
       "Kanakapura Road,          1\n",
       "Kanakapura main  Road     1\n",
       "Karnataka Shabarimala     1\n",
       "whitefiled                1\n",
       "Name: location, Length: 1052, dtype: int64"
      ]
     },
     "execution_count": 32,
     "metadata": {},
     "output_type": "execute_result"
    }
   ],
   "source": [
    "location_stats_less_10"
   ]
  },
  {
   "cell_type": "code",
   "execution_count": 33,
   "id": "86bdd8b1",
   "metadata": {},
   "outputs": [],
   "source": [
    "# converting those 1052 into \"other\"\n",
    "for i in range(len(df4['location'])-1):\n",
    "    if df4['location'][i] in location_stats_less_10:\n",
    "         df4.at[i, 'location'] = 'other'"
   ]
  },
  {
   "cell_type": "code",
   "execution_count": 34,
   "id": "bd0bfe9e",
   "metadata": {
    "scrolled": true
   },
   "outputs": [
    {
     "data": {
      "text/plain": [
       "location\n",
       "other               2881\n",
       "Whitefield           535\n",
       "Sarjapur  Road       392\n",
       "Electronic City      304\n",
       "Kanakpura Road       266\n",
       "                    ... \n",
       "LB Shastri Nagar      11\n",
       "Marsur                11\n",
       "Narayanapura          11\n",
       "Nehru Nagar           11\n",
       "HAL 2nd Stage         11\n",
       "Name: location, Length: 242, dtype: int64"
      ]
     },
     "execution_count": 34,
     "metadata": {},
     "output_type": "execute_result"
    }
   ],
   "source": [
    "df4.groupby('location')['location'].agg('count').sort_values(ascending=False)\n",
    "# only 242 different locations."
   ]
  },
  {
   "cell_type": "code",
   "execution_count": 36,
   "id": "f99165c1",
   "metadata": {
    "scrolled": false
   },
   "outputs": [
    {
     "name": "stdout",
     "output_type": "stream",
     "text": [
      "(13246, 7)\n"
     ]
    },
    {
     "data": {
      "text/html": [
       "<div>\n",
       "<style scoped>\n",
       "    .dataframe tbody tr th:only-of-type {\n",
       "        vertical-align: middle;\n",
       "    }\n",
       "\n",
       "    .dataframe tbody tr th {\n",
       "        vertical-align: top;\n",
       "    }\n",
       "\n",
       "    .dataframe thead th {\n",
       "        text-align: right;\n",
       "    }\n",
       "</style>\n",
       "<table border=\"1\" class=\"dataframe\">\n",
       "  <thead>\n",
       "    <tr style=\"text-align: right;\">\n",
       "      <th></th>\n",
       "      <th>location</th>\n",
       "      <th>size</th>\n",
       "      <th>total_sqft</th>\n",
       "      <th>bath</th>\n",
       "      <th>price</th>\n",
       "      <th>BHK</th>\n",
       "      <th>price_per_sqft</th>\n",
       "    </tr>\n",
       "  </thead>\n",
       "  <tbody>\n",
       "    <tr>\n",
       "      <th>0</th>\n",
       "      <td>Electronic City Phase II</td>\n",
       "      <td>2 BHK</td>\n",
       "      <td>1056.0</td>\n",
       "      <td>2.0</td>\n",
       "      <td>39.07</td>\n",
       "      <td>2.0</td>\n",
       "      <td>3699.810606</td>\n",
       "    </tr>\n",
       "    <tr>\n",
       "      <th>1</th>\n",
       "      <td>Chikka Tirupathi</td>\n",
       "      <td>4 Bedroom</td>\n",
       "      <td>2600.0</td>\n",
       "      <td>5.0</td>\n",
       "      <td>120.00</td>\n",
       "      <td>4.0</td>\n",
       "      <td>4615.384615</td>\n",
       "    </tr>\n",
       "    <tr>\n",
       "      <th>2</th>\n",
       "      <td>Uttarahalli</td>\n",
       "      <td>3 BHK</td>\n",
       "      <td>1440.0</td>\n",
       "      <td>2.0</td>\n",
       "      <td>62.00</td>\n",
       "      <td>3.0</td>\n",
       "      <td>4305.555556</td>\n",
       "    </tr>\n",
       "    <tr>\n",
       "      <th>3</th>\n",
       "      <td>Lingadheeranahalli</td>\n",
       "      <td>3 BHK</td>\n",
       "      <td>1521.0</td>\n",
       "      <td>3.0</td>\n",
       "      <td>95.00</td>\n",
       "      <td>3.0</td>\n",
       "      <td>6245.890861</td>\n",
       "    </tr>\n",
       "    <tr>\n",
       "      <th>4</th>\n",
       "      <td>Kothanur</td>\n",
       "      <td>2 BHK</td>\n",
       "      <td>1200.0</td>\n",
       "      <td>2.0</td>\n",
       "      <td>51.00</td>\n",
       "      <td>2.0</td>\n",
       "      <td>4250.0</td>\n",
       "    </tr>\n",
       "  </tbody>\n",
       "</table>\n",
       "</div>"
      ],
      "text/plain": [
       "                   location       size total_sqft  bath   price  BHK  \\\n",
       "0  Electronic City Phase II      2 BHK     1056.0   2.0   39.07  2.0   \n",
       "1          Chikka Tirupathi  4 Bedroom     2600.0   5.0  120.00  4.0   \n",
       "2               Uttarahalli      3 BHK     1440.0   2.0   62.00  3.0   \n",
       "3        Lingadheeranahalli      3 BHK     1521.0   3.0   95.00  3.0   \n",
       "4                  Kothanur      2 BHK     1200.0   2.0   51.00  2.0   \n",
       "\n",
       "  price_per_sqft  \n",
       "0    3699.810606  \n",
       "1    4615.384615  \n",
       "2    4305.555556  \n",
       "3    6245.890861  \n",
       "4         4250.0  "
      ]
     },
     "execution_count": 36,
     "metadata": {},
     "output_type": "execute_result"
    }
   ],
   "source": [
    "print(df4.shape)\n",
    "df4.head()"
   ]
  },
  {
   "cell_type": "code",
   "execution_count": 44,
   "id": "f67da0e1",
   "metadata": {
    "scrolled": true
   },
   "outputs": [
    {
     "name": "stdout",
     "output_type": "stream",
     "text": [
      "38\n"
     ]
    }
   ],
   "source": [
    "# Outliers removal\n",
    "# [Bussiness domain needed] -> there is a relation between the total_sqft of a house and its bhk. \n",
    "# It is assumed that there is at least 100sqft (9.29m2) per room.\n",
    "size_totalsqft= df4[df4.total_sqft/df4.BHK<100]\n",
    "print(len(size_totalsqft))\n"
   ]
  },
  {
   "cell_type": "code",
   "execution_count": 45,
   "id": "094c8659",
   "metadata": {
    "scrolled": true
   },
   "outputs": [
    {
     "data": {
      "text/html": [
       "<div>\n",
       "<style scoped>\n",
       "    .dataframe tbody tr th:only-of-type {\n",
       "        vertical-align: middle;\n",
       "    }\n",
       "\n",
       "    .dataframe tbody tr th {\n",
       "        vertical-align: top;\n",
       "    }\n",
       "\n",
       "    .dataframe thead th {\n",
       "        text-align: right;\n",
       "    }\n",
       "</style>\n",
       "<table border=\"1\" class=\"dataframe\">\n",
       "  <thead>\n",
       "    <tr style=\"text-align: right;\">\n",
       "      <th></th>\n",
       "      <th>location</th>\n",
       "      <th>size</th>\n",
       "      <th>total_sqft</th>\n",
       "      <th>bath</th>\n",
       "      <th>price</th>\n",
       "      <th>BHK</th>\n",
       "      <th>price_per_sqft</th>\n",
       "    </tr>\n",
       "  </thead>\n",
       "  <tbody>\n",
       "    <tr>\n",
       "      <th>0</th>\n",
       "      <td>Electronic City Phase II</td>\n",
       "      <td>2 BHK</td>\n",
       "      <td>1056.0</td>\n",
       "      <td>2.0</td>\n",
       "      <td>39.07</td>\n",
       "      <td>2.0</td>\n",
       "      <td>3699.810606</td>\n",
       "    </tr>\n",
       "    <tr>\n",
       "      <th>1</th>\n",
       "      <td>Chikka Tirupathi</td>\n",
       "      <td>4 Bedroom</td>\n",
       "      <td>2600.0</td>\n",
       "      <td>5.0</td>\n",
       "      <td>120.00</td>\n",
       "      <td>4.0</td>\n",
       "      <td>4615.384615</td>\n",
       "    </tr>\n",
       "    <tr>\n",
       "      <th>2</th>\n",
       "      <td>Uttarahalli</td>\n",
       "      <td>3 BHK</td>\n",
       "      <td>1440.0</td>\n",
       "      <td>2.0</td>\n",
       "      <td>62.00</td>\n",
       "      <td>3.0</td>\n",
       "      <td>4305.555556</td>\n",
       "    </tr>\n",
       "    <tr>\n",
       "      <th>3</th>\n",
       "      <td>Lingadheeranahalli</td>\n",
       "      <td>3 BHK</td>\n",
       "      <td>1521.0</td>\n",
       "      <td>3.0</td>\n",
       "      <td>95.00</td>\n",
       "      <td>3.0</td>\n",
       "      <td>6245.890861</td>\n",
       "    </tr>\n",
       "    <tr>\n",
       "      <th>4</th>\n",
       "      <td>Kothanur</td>\n",
       "      <td>2 BHK</td>\n",
       "      <td>1200.0</td>\n",
       "      <td>2.0</td>\n",
       "      <td>51.00</td>\n",
       "      <td>2.0</td>\n",
       "      <td>4250.0</td>\n",
       "    </tr>\n",
       "  </tbody>\n",
       "</table>\n",
       "</div>"
      ],
      "text/plain": [
       "                   location       size total_sqft  bath   price  BHK  \\\n",
       "0  Electronic City Phase II      2 BHK     1056.0   2.0   39.07  2.0   \n",
       "1          Chikka Tirupathi  4 Bedroom     2600.0   5.0  120.00  4.0   \n",
       "2               Uttarahalli      3 BHK     1440.0   2.0   62.00  3.0   \n",
       "3        Lingadheeranahalli      3 BHK     1521.0   3.0   95.00  3.0   \n",
       "4                  Kothanur      2 BHK     1200.0   2.0   51.00  2.0   \n",
       "\n",
       "  price_per_sqft  \n",
       "0    3699.810606  \n",
       "1    4615.384615  \n",
       "2    4305.555556  \n",
       "3    6245.890861  \n",
       "4         4250.0  "
      ]
     },
     "execution_count": 45,
     "metadata": {},
     "output_type": "execute_result"
    }
   ],
   "source": [
    "df5 = df4[~(df4.total_sqft/df4.BHK<100)]\n",
    "df5.head()"
   ]
  },
  {
   "cell_type": "code",
   "execution_count": 54,
   "id": "fa3549ef",
   "metadata": {},
   "outputs": [],
   "source": [
    "df5['price_per_sqft'] = df5['price_per_sqft'].astype('int')"
   ]
  },
  {
   "cell_type": "code",
   "execution_count": 63,
   "id": "b5589993",
   "metadata": {
    "scrolled": false
   },
   "outputs": [
    {
     "data": {
      "text/plain": [
       "(13246, 7)"
      ]
     },
     "execution_count": 63,
     "metadata": {},
     "output_type": "execute_result"
    }
   ],
   "source": [
    "df5.price_per_sqft.describe()\n",
    "df5.shape"
   ]
  },
  {
   "cell_type": "code",
   "execution_count": 74,
   "id": "2834367b",
   "metadata": {},
   "outputs": [],
   "source": [
    "# remove outliers for the price_per_sqft based on the standard deviation\n",
    "new_df = pd.DataFrame()\n",
    "for location, location_df in df5.groupby('location'):\n",
    "    mean = np.mean(location_df.price_per_sqft)\n",
    "    std = np.std(location_df.price_per_sqft)\n",
    "    reduced_df = location_df[(location_df.price_per_sqft>(mean - std)) & (location_df.price_per_sqft<=(mean + std))]\n",
    "    new_df = pd.concat([new_df,reduced_df], ignore_index = True)"
   ]
  },
  {
   "cell_type": "code",
   "execution_count": 75,
   "id": "fba34e10",
   "metadata": {
    "scrolled": true
   },
   "outputs": [
    {
     "data": {
      "text/plain": [
       "(11826, 7)"
      ]
     },
     "execution_count": 75,
     "metadata": {},
     "output_type": "execute_result"
    }
   ],
   "source": [
    "new_df.shape"
   ]
  },
  {
   "cell_type": "code",
   "execution_count": 76,
   "id": "6d70c643",
   "metadata": {},
   "outputs": [
    {
     "data": {
      "text/plain": [
       "(11669, 7)"
      ]
     },
     "execution_count": 76,
     "metadata": {},
     "output_type": "execute_result"
    }
   ],
   "source": [
    "# another thing to check is that houses as a maximun have 2 bathrooms more than its amount of BHK... reducing outliers\n",
    "new_df = new_df[(new_df.BHK+2 > new_df.bath)]\n",
    "new_df.shape"
   ]
  },
  {
   "cell_type": "code",
   "execution_count": 80,
   "id": "4e68d14d",
   "metadata": {},
   "outputs": [
    {
     "name": "stdout",
     "output_type": "stream",
     "text": [
      "1st Block Jayanagar\n",
      "1st Phase JP Nagar\n",
      "2nd Phase Judicial Layout\n",
      "2nd Stage Nagarbhavi\n",
      "5th Block Hbr Layout\n",
      "5th Phase JP Nagar\n",
      "6th Phase JP Nagar\n",
      "7th Phase JP Nagar\n",
      "8th Phase JP Nagar\n",
      "9th Phase JP Nagar\n",
      "AECS Layout\n",
      "Abbigere\n",
      "Akshaya Nagar\n",
      "Ambalipura\n",
      "Ambedkar Nagar\n",
      "Amruthahalli\n",
      "Anandapura\n",
      "Ananth Nagar\n",
      "Anekal\n",
      "Anjanapura\n",
      "Ardendale\n",
      "Arekere\n",
      "Attibele\n",
      "BEML Layout\n",
      "BTM 2nd Stage\n",
      "BTM Layout\n",
      "Babusapalaya\n",
      "Badavala Nagar\n",
      "Balagere\n",
      "Banashankari\n",
      "Banashankari Stage II\n",
      "Banashankari Stage III\n",
      "Banashankari Stage V\n",
      "Banashankari Stage VI\n",
      "Banaswadi\n",
      "Banjara Layout\n",
      "Bannerghatta\n",
      "Bannerghatta Road\n",
      "Basavangudi\n",
      "Basaveshwara Nagar\n",
      "Battarahalli\n",
      "Begur\n",
      "Begur Road\n",
      "Bellandur\n",
      "Benson Town\n",
      "Bharathi Nagar\n",
      "Bhoganhalli\n",
      "Billekahalli\n",
      "Binny Pete\n",
      "Bisuvanahalli\n",
      "Bommanahalli\n",
      "Bommasandra\n",
      "Bommasandra Industrial Area\n",
      "Bommenahalli\n",
      "Brookefield\n",
      "Budigere\n",
      "CV Raman Nagar\n",
      "Chamrajpet\n",
      "Chandapura\n",
      "Channasandra\n",
      "Chikka Tirupathi\n",
      "Chikkabanavar\n",
      "Chikkalasandra\n",
      "Choodasandra\n",
      "Cooke Town\n",
      "Cox Town\n",
      "Cunningham Road\n",
      "Dasanapura\n",
      "Dasarahalli\n",
      "Devanahalli\n",
      "Devarachikkanahalli\n",
      "Dodda Nekkundi\n",
      "Doddaballapur\n",
      "Doddakallasandra\n",
      "Doddathoguru\n",
      "Domlur\n",
      "Dommasandra\n",
      "EPIP Zone\n",
      "Electronic City\n",
      "Electronic City Phase II\n",
      "Electronics City Phase 1\n",
      "Frazer Town\n",
      "GM Palaya\n",
      "Garudachar Palya\n",
      "Giri Nagar\n",
      "Gollarapalya Hosahalli\n",
      "Gottigere\n",
      "Green Glen Layout\n",
      "Gubbalala\n",
      "Gunjur\n",
      "HAL 2nd Stage\n",
      "HBR Layout\n",
      "HRBR Layout\n",
      "HSR Layout\n",
      "Haralur Road\n",
      "Harlur\n",
      "Hebbal\n",
      "Hebbal Kempapura\n",
      "Hegde Nagar\n",
      "Hennur\n",
      "Hennur Road\n",
      "Hoodi\n",
      "Horamavu Agara\n",
      "Horamavu Banaswadi\n",
      "Hormavu\n",
      "Hosa Road\n",
      "Hosakerehalli\n",
      "Hoskote\n",
      "Hosur Road\n",
      "Hulimavu\n",
      "ISRO Layout\n",
      "ITPL\n",
      "Iblur Village\n",
      "Indira Nagar\n",
      "JP Nagar\n",
      "Jakkur\n",
      "Jalahalli\n",
      "Jalahalli East\n",
      "Jigani\n",
      "Judicial Layout\n",
      "KR Puram\n",
      "Kadubeesanahalli\n",
      "Kadugodi\n",
      "Kaggadasapura\n",
      "Kaggalipura\n",
      "Kaikondrahalli\n",
      "Kalena Agrahara\n",
      "Kalyan nagar\n",
      "Kambipura\n",
      "Kammanahalli\n",
      "Kammasandra\n",
      "Kanakapura\n",
      "Kanakpura Road\n",
      "Kannamangala\n",
      "Karuna Nagar\n",
      "Kasavanhalli\n",
      "Kasturi Nagar\n",
      "Kathriguppe\n",
      "Kaval Byrasandra\n",
      "Kenchenahalli\n",
      "Kengeri\n",
      "Kengeri Satellite Town\n",
      "Kereguddadahalli\n",
      "Kodichikkanahalli\n",
      "Kodigehaali\n",
      "Kodigehalli\n",
      "Kodihalli\n",
      "Kogilu\n",
      "Konanakunte\n",
      "Koramangala\n",
      "Kothannur\n",
      "Kothanur\n",
      "Kudlu\n",
      "Kudlu Gate\n",
      "Kumaraswami Layout\n",
      "Kundalahalli\n",
      "LB Shastri Nagar\n",
      "Laggere\n",
      "Lakshminarayana Pura\n",
      "Lingadheeranahalli\n",
      "Magadi Road\n",
      "Mahadevpura\n",
      "Mahalakshmi Layout\n",
      "Mallasandra\n",
      "Malleshpalya\n",
      "Malleshwaram\n",
      "Marathahalli\n",
      "Margondanahalli\n",
      "Marsur\n",
      "Mico Layout\n",
      "Munnekollal\n",
      "Murugeshpalya\n",
      "Mysore Road\n",
      "NGR Layout\n",
      "NRI Layout\n",
      "Nagarbhavi\n",
      "Nagasandra\n",
      "Nagavara\n",
      "Nagavarapalya\n",
      "Narayanapura\n",
      "Neeladri Nagar\n",
      "Nehru Nagar\n",
      "OMBR Layout\n",
      "Old Airport Road\n",
      "Old Madras Road\n",
      "Padmanabhanagar\n",
      "Pai Layout\n",
      "Panathur\n",
      "Parappana Agrahara\n",
      "Pattandur Agrahara\n",
      "Poorna Pragna Layout\n",
      "Prithvi Layout\n",
      "R.T. Nagar\n",
      "Rachenahalli\n",
      "Raja Rajeshwari Nagar\n",
      "Rajaji Nagar\n",
      "Rajiv Nagar\n",
      "Ramagondanahalli\n",
      "Ramamurthy Nagar\n",
      "Rayasandra\n",
      "Sahakara Nagar\n",
      "Sanjay nagar\n",
      "Sarakki Nagar\n",
      "Sarjapur\n",
      "Sarjapur  Road\n",
      "Sarjapura - Attibele Road\n",
      "Sector 2 HSR Layout\n",
      "Sector 7 HSR Layout\n",
      "Seegehalli\n",
      "Shampura\n",
      "Shivaji Nagar\n",
      "Singasandra\n",
      "Somasundara Palya\n",
      "Sompura\n",
      "Sonnenahalli\n",
      "Subramanyapura\n",
      "Sultan Palaya\n",
      "TC Palaya\n",
      "Talaghattapura\n",
      "Thanisandra\n",
      "Thigalarapalya\n",
      "Thubarahalli\n",
      "Thyagaraja Nagar\n",
      "Tindlu\n",
      "Tumkur Road\n",
      "Ulsoor\n",
      "Uttarahalli\n",
      "Varthur\n",
      "Varthur Road\n",
      "Vasanthapura\n",
      "Vidyaranyapura\n",
      "Vijayanagar\n",
      "Vishveshwarya Layout\n",
      "Vishwapriya Layout\n",
      "Vittasandra\n",
      "Whitefield\n",
      "Yelachenahalli\n",
      "Yelahanka\n",
      "Yelahanka New Town\n",
      "Yelenahalli\n",
      "Yeshwanthpur\n",
      "other\n"
     ]
    }
   ],
   "source": [
    "for key, df in new_df.groupby('location'):\n",
    "    print(key)"
   ]
  },
  {
   "cell_type": "code",
   "execution_count": 82,
   "id": "fd213d62",
   "metadata": {},
   "outputs": [],
   "source": [
    "def plot_scatter_chart(df,location):\n",
    "    bhk2 = df[(df.location==location) & (df.BHK==2)]\n",
    "    bhk3 = df[(df.location==location) & (df.BHK==3)]\n",
    "    matplotlib.rcParams['figure.figsize'] = (15,10)\n",
    "    plt.scatter(bhk2.total_sqft,bhk2.price,color='blue',label='2 BHK', s=50)\n",
    "    plt.scatter(bhk3.total_sqft,bhk3.price,marker='+', color='green',label='3 BHK', s=50)\n",
    "    plt.xlabel(\"Total Square Feet Area\")\n",
    "    plt.ylabel(\"Price (Lakh Indian Rupees)\")\n",
    "    plt.title(location)\n",
    "    plt.legend()\n",
    "    "
   ]
  },
  {
   "cell_type": "code",
   "execution_count": 84,
   "id": "01b12808",
   "metadata": {
    "scrolled": true
   },
   "outputs": [
    {
     "data": {
      "image/png": "[encoded data removed]",
      "text/plain": [
       "<Figure size 1500x1000 with 1 Axes>"
      ]
     },
     "metadata": {},
     "output_type": "display_data"
    }
   ],
   "source": [
    "plot_scatter_chart(new_df,\"Akshaya Nagar\")"
   ]
  },
  {
   "cell_type": "code",
   "execution_count": null,
   "id": "225a3fc4",
   "metadata": {},
   "outputs": [],
   "source": []
  }
 ],
 "metadata": {
  "kernelspec": {
   "display_name": "Python 3 (ipykernel)",
   "language": "python",
   "name": "python3"
  },
  "language_info": {
   "codemirror_mode": {
    "name": "ipython",
    "version": 3
   },
   "file_extension": ".py",
   "mimetype": "text/x-python",
   "name": "python",
   "nbconvert_exporter": "python",
   "pygments_lexer": "ipython3",
   "version": "3.9.13"
  }
 },
 "nbformat": 4,
 "nbformat_minor": 5
}
